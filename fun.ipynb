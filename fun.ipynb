{
 "cells": [
  {
   "cell_type": "code",
   "execution_count": 1,
   "metadata": {},
   "outputs": [
    {
     "name": "stdout",
     "output_type": "stream",
     "text": [
      "[2, 4, 6, 8, 10]\n",
      "[2, 4, 6, 8]\n"
     ]
    }
   ],
   "source": [
    "x = [x*2 for x in range(1, 6)]\n",
    "y= [x for x in range(1, 10) if x % 2 == 0]\n",
    "print(x)\n",
    "print(y)"
   ]
  },
  {
   "cell_type": "code",
   "execution_count": 2,
   "metadata": {},
   "outputs": [
    {
     "name": "stdout",
     "output_type": "stream",
     "text": [
      "[2, 5, 8]\n"
     ]
    }
   ],
   "source": [
    "a = [0, 1, 2, 3, 4, 5, 6, 7, 8, 9, 10, 11]\n",
    "print(a[2:-2:3])"
   ]
  },
  {
   "cell_type": "code",
   "execution_count": 14,
   "metadata": {},
   "outputs": [
    {
     "name": "stdout",
     "output_type": "stream",
     "text": [
      "(1, 2) 3 4\n"
     ]
    }
   ],
   "source": [
    "def fun():\n",
    "    return ((1, 2), 3, 4)\n",
    "a, b, c = fun()\n",
    "print(a,b,c)"
   ]
  },
  {
   "cell_type": "code",
   "execution_count": 15,
   "metadata": {},
   "outputs": [
    {
     "name": "stdout",
     "output_type": "stream",
     "text": [
      "True\n",
      "False\n",
      "True\n"
     ]
    }
   ],
   "source": [
    "dict = {\"a\":1, \"b\":2}\n",
    "print(\"a\" in dict)\n",
    "print(1 in dict)\n",
    "print((\"a\",1) in dict.items())"
   ]
  },
  {
   "cell_type": "code",
   "execution_count": 17,
   "metadata": {},
   "outputs": [
    {
     "name": "stdout",
     "output_type": "stream",
     "text": [
      "False\n",
      "5 False\n",
      "True\n"
     ]
    }
   ],
   "source": [
    "a = [5,6,7,8,[1,2,1],7]\n",
    "print(2 in a)\n",
    "print(5,2 in a)\n",
    "print([1,2,1] in a)"
   ]
  },
  {
   "cell_type": "code",
   "execution_count": 19,
   "metadata": {},
   "outputs": [
    {
     "name": "stdout",
     "output_type": "stream",
     "text": [
      "MiMiMi\n",
      "JeJeJeJe\n",
      "ThThThThThTh\n",
      "Thomas\n",
      "done = as\n"
     ]
    }
   ],
   "source": [
    "done = \"\"\n",
    "friends = [\"Min\", \"Jean\", \"Thomas\"]\n",
    "\n",
    "for name in friends:\n",
    "    k = len(name)\n",
    "    print (k*name[0:2])\n",
    "print(name)\n",
    "done = name[k-2:k]\n",
    "print (\"done =\", done)"
   ]
  },
  {
   "cell_type": "code",
   "execution_count": 20,
   "metadata": {},
   "outputs": [
    {
     "name": "stdout",
     "output_type": "stream",
     "text": [
      "[0, 1, 2, 3, 4, 5, 6, 7, 8, 9]\n"
     ]
    }
   ],
   "source": [
    "L4 = []\n",
    "for x in range (10):\n",
    "    L4 = L4 + [x]\n",
    "print(L4)"
   ]
  },
  {
   "cell_type": "code",
   "execution_count": 2,
   "metadata": {},
   "outputs": [
    {
     "name": "stdout",
     "output_type": "stream",
     "text": [
      "[1, 2, 3, 4] 1234\n"
     ]
    }
   ],
   "source": [
    "def fun1 (l, s):\n",
    "    return s[0:2] + 'x' + s[3:]\n",
    "\n",
    "l = [1,2,3,4]\n",
    "s = \"1234\"\n",
    "ln = l\n",
    "sn = s\n",
    "\n",
    "sn = fun1(ln,sn)\n",
    "print(l,s)"
   ]
  },
  {
   "cell_type": "code",
   "execution_count": 12,
   "metadata": {},
   "outputs": [
    {
     "name": "stdout",
     "output_type": "stream",
     "text": [
      "10 20 8\n"
     ]
    }
   ],
   "source": [
    "def fun1 (x):\n",
    "    y = 5\n",
    "    x = 1\n",
    "    return x+y+z \n",
    "\n",
    "x = 10\n",
    "y = 20\n",
    "z = 2\n",
    "\n",
    "z = fun1(x)\n",
    "\n",
    "print(x,y,z)"
   ]
  },
  {
   "cell_type": "code",
   "execution_count": 6,
   "metadata": {},
   "outputs": [
    {
     "name": "stdout",
     "output_type": "stream",
     "text": [
      "1 2 3 \n",
      "3 4 5 \n",
      "5 6 7 \n",
      "7 8 9 \n",
      "9 10 11 \n"
     ]
    }
   ],
   "source": [
    "for n in range (1,10,2):\n",
    "    for k in range (3):\n",
    "        print(n+k, end=' ')\n",
    "    print()"
   ]
  },
  {
   "cell_type": "code",
   "execution_count": 7,
   "metadata": {},
   "outputs": [
    {
     "data": {
      "text/plain": [
       "[(1, 2), (3, 2)]"
      ]
     },
     "execution_count": 7,
     "metadata": {},
     "output_type": "execute_result"
    }
   ],
   "source": [
    "a = [(1,2), (2,3)]\n",
    "b,c = a[1]\n",
    "a[1] = (c,b)\n",
    "a"
   ]
  },
  {
   "cell_type": "code",
   "execution_count": 11,
   "metadata": {},
   "outputs": [
    {
     "name": "stdout",
     "output_type": "stream",
     "text": [
      "10\n"
     ]
    }
   ],
   "source": [
    "\n",
    "def fun(x):\n",
    "    y = x\n",
    "    x = 5*x\n",
    "    return x\n",
    "\n",
    "x = 2\n",
    "y = 10\n",
    "\n",
    "\n",
    "print(fun(x))"
   ]
  },
  {
   "cell_type": "code",
   "execution_count": null,
   "metadata": {},
   "outputs": [],
   "source": [
    "\n",
    " "
   ]
  }
 ],
 "metadata": {
  "kernelspec": {
   "display_name": "Python 3",
   "language": "python",
   "name": "python3"
  },
  "language_info": {
   "codemirror_mode": {
    "name": "ipython",
    "version": 3
   },
   "file_extension": ".py",
   "mimetype": "text/x-python",
   "name": "python",
   "nbconvert_exporter": "python",
   "pygments_lexer": "ipython3",
   "version": "3.11.0"
  }
 },
 "nbformat": 4,
 "nbformat_minor": 2
}
